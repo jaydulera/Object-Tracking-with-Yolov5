{
  "nbformat": 4,
  "nbformat_minor": 0,
  "metadata": {
    "colab": {
      "name": "ObjectTracker.ipynb",
      "provenance": [],
      "collapsed_sections": []
    },
    "kernelspec": {
      "name": "python3",
      "display_name": "Python 3"
    },
    "language_info": {
      "name": "python"
    }
  },
  "cells": [
    {
      "cell_type": "code",
      "metadata": {
        "id": "Nl8y5M5AoyKJ"
      },
      "source": [
        "from scipy.spatial import distance as dist\n",
        "from collections import OrderedDict\n",
        "import numpy as np"
      ],
      "execution_count": null,
      "outputs": []
    },
    {
      "cell_type": "code",
      "metadata": {
        "id": "vBQbcg3Fo2p8"
      },
      "source": [
        " class CentroidTracker():\n",
        "    def __init__(self, maxDisappeared=50):\n",
        "        # initialize the next unique object ID along with two ordered\n",
        "        # dictionaries used to keep track of mapping a given object\n",
        "        # ID to its centroid and number of consecutive frames it has\n",
        "        # been marked as \"disappeared\", respectively\n",
        "        self.nextObjectID = 0\n",
        "        self.objects = OrderedDict()\n",
        "        self.disappeared = OrderedDict()\n",
        "\n",
        "        # store the number of maximum consecutive frames a given\n",
        "        # object is allowed to be marked as \"disappeared\" until we\n",
        "        # need to deregister the object from tracking\n",
        "        self.maxDisappeared = maxDisappeared\n",
        "        \n",
        "    def register(self, centroid):\n",
        "        # when registering an object we use the next available object\n",
        "        # ID to store the centroid\n",
        "        self.objects[self.nextObjectID] = centroid\n",
        "        self.disappeared[self.nextObjectID] = 0\n",
        "        self.nextObjectID += 1\n",
        "        \n",
        "    def deregister(self, objectID):\n",
        "        # to deregister an object ID we delete the object ID from\n",
        "        # both of our respective dictionaries\n",
        "        del self.objects[objectID]\n",
        "        del self.disappeared[objectID]\n",
        "        \n",
        "    def update(self, rects):\n",
        "        # check to see if the list of input bounding box rectangles\n",
        "        # is empty\n",
        "        if len(rects) == 0:\n",
        "            # loop over any existing tracked objects and mark them\n",
        "            # as disappeared\n",
        "            for objectID in list(self.disappeared.keys()):\n",
        "                self.disappeared[objectID] += 1\n",
        "\n",
        "                # if we have reached a maximum number of consecutive\n",
        "                # frames where a given object has been marked as\n",
        "                # missing, deregister it\n",
        "                if self.disappeared[objectID] > self.maxDisappeared:\n",
        "                    self.deregister(objectID)\n",
        " \n",
        "            # return early as there are no centroids or tracking info\n",
        "            # to update\n",
        "            return self.objects\n",
        "        \n",
        "        # initialize an array of input centroids for the current frame\n",
        "        inputCentroids = np.zeros((len(rects), 2), dtype=\"int\")\n",
        "\n",
        "        # loop over the bounding box rectangles\n",
        "        for (i, (startX, startY, endX, endY)) in enumerate(rects):\n",
        "            # use the bounding box coordinates to derive the centroid\n",
        "            cX = int((startX + endX) / 2.0)\n",
        "            cY = int((startY + endY) / 2.0)\n",
        "            inputCentroids[i] = (cX, cY)\n",
        "            \n",
        "        # if we are currently not tracking any objects take the input\n",
        "        # centroids and register each of them\n",
        "        if len(self.objects) == 0:\n",
        "            for i in range(0, len(inputCentroids)):\n",
        "                self.register(inputCentroids[i])\n",
        "                \n",
        "        # otherwise, are are currently tracking objects so we need to\n",
        "        # try to match the input centroids to existing object\n",
        "        # centroids\n",
        "        else:\n",
        "            # grab the set of object IDs and corresponding centroids\n",
        "            objectIDs = list(self.objects.keys())\n",
        "            objectCentroids = list(self.objects.values())\n",
        "\n",
        "            # compute the distance between each pair of object\n",
        "            # centroids and input centroids, respectively -- our\n",
        "            # goal will be to match an input centroid to an existing\n",
        "            # object centroid\n",
        "            D = dist.cdist(np.array(objectCentroids), inputCentroids)\n",
        "\n",
        "            # in order to perform this matching we must (1) find the\n",
        "            # smallest value in each row and then (2) sort the row\n",
        "            # indexes based on their minimum values so that the row\n",
        "            # with the smallest value is at the *front* of the index\n",
        "            # list\n",
        "            rows = D.min(axis=1).argsort()\n",
        "\n",
        "            # next, we perform a similar process on the columns by\n",
        "            # finding the smallest value in each column and then\n",
        "            # sorting using the previously computed row index list\n",
        "            cols = D.argmin(axis=1)[rows]\n",
        "            \n",
        "            # in order to determine if we need to update, register,\n",
        "            # or deregister an object we need to keep track of which\n",
        "            # of the rows and column indexes we have already examined\n",
        "            usedRows = set()\n",
        "            usedCols = set()\n",
        "\n",
        "            # loop over the combination of the (row, column) index\n",
        "            # tuples\n",
        "            for (row, col) in zip(rows, cols):\n",
        "                # if we have already examined either the row or\n",
        "                # column value before, ignore it\n",
        "                # val\n",
        "                if row in usedRows or col in usedCols:\n",
        "                    continue\n",
        " \n",
        "                # otherwise, grab the object ID for the current row,\n",
        "                # set its new centroid, and reset the disappeared\n",
        "                # counter\n",
        "                objectID = objectIDs[row]\n",
        "                self.objects[objectID] = inputCentroids[col]\n",
        "                self.disappeared[objectID] = 0\n",
        " \n",
        "                # indicate that we have examined each of the row and\n",
        "                # column indexes, respectively\n",
        "                usedRows.add(row)\n",
        "                usedCols.add(col)\n",
        "                \n",
        "            # compute both the row and column index we have NOT yet\n",
        "            # examined\n",
        "            unusedRows = set(range(0, D.shape[0])).difference(usedRows)\n",
        "            unusedCols = set(range(0, D.shape[1])).difference(usedCols)\n",
        "            \n",
        "            # in the event that the number of object centroids is\n",
        "            # equal or greater than the number of input centroids\n",
        "            # we need to check and see if some of these objects have\n",
        "            # potentially disappeared\n",
        "            if D.shape[0] >= D.shape[1]:\n",
        "                # loop over the unused row indexes\n",
        "                for row in unusedRows:\n",
        "                    # grab the object ID for the corresponding row\n",
        "                    # index and increment the disappeared counter\n",
        "                    objectID = objectIDs[row]\n",
        "                    self.disappeared[objectID] += 1\n",
        " \n",
        "                    # check to see if the number of consecutive\n",
        "                    # frames the object has been marked \"disappeared\"\n",
        "                    # for warrants deregistering the object\n",
        "                    if self.disappeared[objectID] > self.maxDisappeared:\n",
        "                        self.deregister(objectID)\n",
        "            else:\n",
        "                for col in unusedCols:\n",
        "                    self.register(inputCentroids[col])\n",
        " \n",
        "        return self.objects"
      ],
      "execution_count": null,
      "outputs": []
    },
    {
      "cell_type": "code",
      "metadata": {
        "id": "u9HnVD6Do5S-"
      },
      "source": [
        "import cv2"
      ],
      "execution_count": null,
      "outputs": []
    },
    {
      "cell_type": "code",
      "metadata": {
        "id": "gDR9mo6oo7W6"
      },
      "source": [
        "ct = CentroidTracker()\n",
        "(H, W) = (None, None)"
      ],
      "execution_count": null,
      "outputs": []
    },
    {
      "cell_type": "code",
      "metadata": {
        "colab": {
          "base_uri": "https://localhost:8080/"
        },
        "id": "7i731899o93i",
        "outputId": "27b136f5-18be-471b-ad0c-f9649aa73d5e"
      },
      "source": [
        "from google.colab import drive\n",
        "drive.mount('/content/mydrive/')"
      ],
      "execution_count": null,
      "outputs": [
        {
          "output_type": "stream",
          "text": [
            "Mounted at /content/mydrive/\n"
          ],
          "name": "stdout"
        }
      ]
    },
    {
      "cell_type": "code",
      "metadata": {
        "id": "K18rimz3pAp-"
      },
      "source": [
        "net = cv2.dnn.readNetFromCaffe(\"/content/mydrive/MyDrive/ObjectDetectionCaffe/deploy.prototxt(res10ssd).txt\", \"/content/mydrive/MyDrive/ObjectDetectionCaffe/res10_300x300_ssd_iter_140000.caffemodel\")"
      ],
      "execution_count": null,
      "outputs": []
    },
    {
      "cell_type": "code",
      "metadata": {
        "id": "3lXUeW4VpKkS"
      },
      "source": [
        "input_video = cv2.VideoCapture('/content/shahrukh.mp4')"
      ],
      "execution_count": null,
      "outputs": []
    },
    {
      "cell_type": "code",
      "metadata": {
        "id": "GkDaZ5B2wbmd"
      },
      "source": [
        "frames_per_second = int(input_video.get(cv2.CAP_PROP_FPS))\n",
        "frame_width = int(input_video.get(cv2.CAP_PROP_FRAME_WIDTH))\n",
        "frame_height = int(input_video.get(cv2.CAP_PROP_FRAME_HEIGHT))\n",
        "no_of_frames = int(input_video.get(cv2.CAP_PROP_FRAME_COUNT))"
      ],
      "execution_count": null,
      "outputs": []
    },
    {
      "cell_type": "code",
      "metadata": {
        "colab": {
          "base_uri": "https://localhost:8080/"
        },
        "id": "PH09Eac2wfbH",
        "outputId": "1f52d7f4-c720-4e5f-bebc-3f52cf84ad0e"
      },
      "source": [
        "count = 1\n",
        "cent = []\n",
        "while (count != no_of_frames):\n",
        "  ret, frame = input_video.read()\n",
        "  if not ret:\n",
        "    print('Processed all frames')\n",
        "    break\n",
        "  if W is None or H is None:\n",
        "        (H, W) = frame.shape[:2]\n",
        "  blob = cv2.dnn.blobFromImage(frame, 1.0, (W, H),\n",
        "        (104.0, 177.0, 123.0))\n",
        "  net.setInput(blob)\n",
        "  detections = net.forward()\n",
        "  rects = []\n",
        "  for i in range(0, detections.shape[2]):\n",
        "        if detections[0, 0, i, 2] > 0.2:\n",
        "            box = detections[0, 0, i, 3:7] * np.array([W, H, W, H])\n",
        "            rects.append(box.astype(\"int\"))\n",
        "            (startX, startY, endX, endY) = box.astype(\"int\")\n",
        "  objects = ct.update(rects)\n",
        "  for (objectID, centroid) in objects.items():\n",
        "        cent.append([objectID, centroid[0], centroid[1]])\n",
        "  key = cv2.waitKey(1)\n",
        "\n",
        "\n",
        "            "
      ],
      "execution_count": null,
      "outputs": [
        {
          "output_type": "stream",
          "text": [
            "Processed all frames\n"
          ],
          "name": "stdout"
        }
      ]
    },
    {
      "cell_type": "code",
      "metadata": {
        "colab": {
          "base_uri": "https://localhost:8080/"
        },
        "id": "OVuyY-tEyGuQ",
        "outputId": "26a9f71c-eb7b-4087-c475-f6904bac132e"
      },
      "source": [
        "len(cent)"
      ],
      "execution_count": null,
      "outputs": [
        {
          "output_type": "execute_result",
          "data": {
            "text/plain": [
              "7203"
            ]
          },
          "metadata": {
            "tags": []
          },
          "execution_count": 15
        }
      ]
    },
    {
      "cell_type": "code",
      "metadata": {
        "id": "04f5vZoZyOKF"
      },
      "source": [
        "cent"
      ],
      "execution_count": null,
      "outputs": []
    },
    {
      "cell_type": "code",
      "metadata": {
        "id": "cSfrEj79yiWR"
      },
      "source": [
        ""
      ],
      "execution_count": null,
      "outputs": []
    }
  ]
}